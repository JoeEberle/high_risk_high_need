{
 "cells": [
  {
   "cell_type": "markdown",
   "id": "8dc4b57a",
   "metadata": {},
   "source": [
    "# Producing Membership Files Automatically\n",
    "### by Sarah M and Joe Eberle started on 09_29_2023"
   ]
  },
  {
   "cell_type": "code",
   "execution_count": 1,
   "id": "3470416f",
   "metadata": {},
   "outputs": [],
   "source": [
    "# Install any Libraries your dont already have \n",
    "first_install = False\n",
    "if first_install:\n",
    "    !pip install ydata-profiling\n",
    "    !pip install pyttsx3\n",
    "    !pip install openpyxl"
   ]
  },
  {
   "cell_type": "code",
   "execution_count": 2,
   "id": "90067b69",
   "metadata": {},
   "outputs": [],
   "source": [
    "import pandas as pd #Pandas is high performance data manipulation \n",
    "import os "
   ]
  },
  {
   "cell_type": "markdown",
   "id": "24695d05",
   "metadata": {},
   "source": [
    "## Optional Step 0 - Intitiate Configuration Settings and name the overall solution"
   ]
  },
  {
   "cell_type": "code",
   "execution_count": 4,
   "id": "e3b6c0c0",
   "metadata": {},
   "outputs": [],
   "source": [
    "import configparser \n",
    "config = configparser.ConfigParser()\n",
    "cfg = config.read('config.ini')  \n",
    "\n",
    "solution_name = 'membership'"
   ]
  },
  {
   "cell_type": "markdown",
   "id": "e78baa21",
   "metadata": {},
   "source": [
    "## Optional Step 0 - Starting Logger"
   ]
  },
  {
   "cell_type": "code",
   "execution_count": 5,
   "id": "940eca97",
   "metadata": {},
   "outputs": [
    {
     "ename": "ModuleNotFoundError",
     "evalue": "No module named 'talking_code'",
     "output_type": "error",
     "traceback": [
      "\u001b[1;31m---------------------------------------------------------------------------\u001b[0m",
      "\u001b[1;31mModuleNotFoundError\u001b[0m                       Traceback (most recent call last)",
      "Cell \u001b[1;32mIn[5], line 3\u001b[0m\n\u001b[0;32m      1\u001b[0m \u001b[38;5;66;03m# Establish the Python Logger  \u001b[39;00m\n\u001b[0;32m      2\u001b[0m \u001b[38;5;28;01mimport\u001b[39;00m \u001b[38;5;21;01mlogging\u001b[39;00m \u001b[38;5;66;03m# built in python library that does not need to be installed \u001b[39;00m\n\u001b[1;32m----> 3\u001b[0m \u001b[38;5;28;01mimport\u001b[39;00m \u001b[38;5;21;01mquick_logger\u001b[39;00m \u001b[38;5;28;01mas\u001b[39;00m \u001b[38;5;21;01mql\u001b[39;00m\n\u001b[0;32m      5\u001b[0m \u001b[38;5;28;01mglobal\u001b[39;00m start_stime \n\u001b[0;32m      6\u001b[0m start_time \u001b[38;5;241m=\u001b[39m ql\u001b[38;5;241m.\u001b[39mset_start_time()\n",
      "File \u001b[1;32m~\\high_risk_high_need\\quick_logger.py:6\u001b[0m\n\u001b[0;32m      4\u001b[0m \u001b[38;5;28;01mfrom\u001b[39;00m \u001b[38;5;21;01mdatetime\u001b[39;00m \u001b[38;5;28;01mimport\u001b[39;00m datetime\n\u001b[0;32m      5\u001b[0m \u001b[38;5;28;01mimport\u001b[39;00m \u001b[38;5;21;01mos\u001b[39;00m \n\u001b[1;32m----> 6\u001b[0m \u001b[38;5;28;01mimport\u001b[39;00m \u001b[38;5;21;01mtalking_code\u001b[39;00m \u001b[38;5;28;01mas\u001b[39;00m \u001b[38;5;21;01mtc\u001b[39;00m  \n\u001b[0;32m      7\u001b[0m speaking_log \u001b[38;5;241m=\u001b[39m \u001b[38;5;28;01mFalse\u001b[39;00m\n\u001b[0;32m      8\u001b[0m speaking_steps \u001b[38;5;241m=\u001b[39m \u001b[38;5;28;01mFalse\u001b[39;00m \n",
      "\u001b[1;31mModuleNotFoundError\u001b[0m: No module named 'talking_code'"
     ]
    }
   ],
   "source": [
    "# Establish the Python Logger  \n",
    "import logging # built in python library that does not need to be installed \n",
    "import quick_logger as ql\n",
    "\n",
    "global start_stime \n",
    "start_time = ql.set_start_time()\n",
    "logging = ql.create_logger_Start(solution_name, start_time) "
   ]
  },
  {
   "cell_type": "markdown",
   "id": "26c417b7-d50e-4b76-8793-0774dad55614",
   "metadata": {},
   "source": [
    "## Optional Step 0 - Build a working directory to house your reports"
   ]
  },
  {
   "cell_type": "code",
   "execution_count": 6,
   "id": "b586b245",
   "metadata": {},
   "outputs": [
    {
     "name": "stdout",
     "output_type": "stream",
     "text": [
      "Directory 'c:\\reports\\membership' already exists.\n"
     ]
    }
   ],
   "source": [
    "# Optional Step 0 - Build a working directory to house your analysis\n",
    "import os\n",
    "\n",
    "directory_path = r'c:\\reports\\membership'\n",
    "\n",
    "# Create the directory if it doesn't exist\n",
    "if not os.path.exists(directory_path):\n",
    "    os.makedirs(directory_path)\n",
    "    print(f\"Directory '{directory_path}' created successfully.\")\n",
    "else:\n",
    "    print(f\"Directory '{directory_path}' already exists.\")"
   ]
  },
  {
   "cell_type": "markdown",
   "id": "031c54ba-5b7c-41ae-902f-9e396bc08b63",
   "metadata": {},
   "source": [
    "## Optional Step 0 - clean out any old reports"
   ]
  },
  {
   "cell_type": "code",
   "execution_count": 7,
   "id": "1f9a1bf2-808f-428e-a81d-4c08282e234b",
   "metadata": {},
   "outputs": [
    {
     "name": "stdout",
     "output_type": "stream",
     "text": [
      "0 files deleted in 'c:\\reports\\membership'.\n",
      "Total files deleted: 0\n"
     ]
    }
   ],
   "source": [
    "def delete_files_in_directory(target_directory):\n",
    "    try:\n",
    "        # Verify if the target_directory exists\n",
    "        if not os.path.exists(target_directory):\n",
    "            print(f\"The directory '{target_directory}' does not exist.\")\n",
    "            return 0  # No files deleted\n",
    "\n",
    "        files_deleted = 0\n",
    "\n",
    "        # Loop through files in the target_directory and delete them\n",
    "        for file in os.listdir(target_directory):\n",
    "            file_path = os.path.join(target_directory, file)\n",
    "            if os.path.isfile(file_path):\n",
    "                os.remove(file_path)  # Delete the file\n",
    "                files_deleted += 1\n",
    "\n",
    "        print(f\"{files_deleted} files deleted in '{target_directory}'.\")\n",
    "        return files_deleted\n",
    "    \n",
    "    except Exception as e:\n",
    "        print(f\"An error occurred: {str(e)}\")\n",
    "        return 0  # No files deleted due to error\n",
    "\n",
    "# Example usage:\n",
    "# Specify the target directory to delete its files\n",
    "directory_path = r'c:\\reports\\membership'\n",
    "deleted_count = delete_files_in_directory(directory_path)\n",
    "print(f\"Total files deleted: {deleted_count}\")\n"
   ]
  },
  {
   "cell_type": "markdown",
   "id": "a8eb58e6",
   "metadata": {},
   "source": [
    "## Optional Step 0 - Build a working directory to archive your reports"
   ]
  },
  {
   "cell_type": "code",
   "execution_count": 8,
   "id": "58628d35-eac5-4961-8459-9058470e1efb",
   "metadata": {},
   "outputs": [
    {
     "name": "stdout",
     "output_type": "stream",
     "text": [
      "Directory 'c:\\reports\\membership\\archive' already exists.\n"
     ]
    }
   ],
   "source": [
    "# Optional Step 0 - Build a working directory to archive your reports \n",
    "directory_path = r'c:\\reports\\membership\\archive'\n",
    "\n",
    "# Create the directory if it doesn't exist\n",
    "if not os.path.exists(directory_path):\n",
    "    os.makedirs(directory_path)\n",
    "    print(f\"Directory '{directory_path}' created successfully.\")\n",
    "else:\n",
    "    print(f\"Directory '{directory_path}' already exists.\")"
   ]
  },
  {
   "cell_type": "markdown",
   "id": "73a68133",
   "metadata": {},
   "source": [
    "## Step 1 - Load ANY data set for which to run discovery or data profiling"
   ]
  },
  {
   "cell_type": "code",
   "execution_count": 24,
   "id": "334b7ec0",
   "metadata": {},
   "outputs": [
    {
     "data": {
      "text/html": [
       "<div>\n",
       "<style scoped>\n",
       "    .dataframe tbody tr th:only-of-type {\n",
       "        vertical-align: middle;\n",
       "    }\n",
       "\n",
       "    .dataframe tbody tr th {\n",
       "        vertical-align: top;\n",
       "    }\n",
       "\n",
       "    .dataframe thead th {\n",
       "        text-align: right;\n",
       "    }\n",
       "</style>\n",
       "<table border=\"1\" class=\"dataframe\">\n",
       "  <thead>\n",
       "    <tr style=\"text-align: right;\">\n",
       "      <th></th>\n",
       "      <th>Patient Info.Patient Name - Last First</th>\n",
       "      <th>Patient Info.MedicaidID</th>\n",
       "      <th>Patient Info.Date Of Birth</th>\n",
       "      <th>Patient Info.Medical Record Number</th>\n",
       "      <th>Patient Info.ID - Patient</th>\n",
       "      <th>Patient Info.ID - Patient Chart</th>\n",
       "      <th>Patient Info.Chart Status</th>\n",
       "      <th>Patient Info.Date - Admit</th>\n",
       "      <th>Patient Info.Date - Discharge/Terminate</th>\n",
       "      <th>Patient Info.Age (Current)</th>\n",
       "      <th>...</th>\n",
       "      <th>FormLab Universal Face Sheet v11 5.Referral Category .Probation/parole</th>\n",
       "      <th>FormLab Universal Face Sheet v11 5.Referral Category .Self</th>\n",
       "      <th>FormLab Universal Face Sheet v11 5.Referral Category .Treatment Court</th>\n",
       "      <th>FormLab Universal Face Sheet v11 5.Unemployed Options.Disabled</th>\n",
       "      <th>FormLab Universal Face Sheet v11 5.Unemployed Options.N/A</th>\n",
       "      <th>FormLab Universal Face Sheet v11 5.Unemployed Options.Retired</th>\n",
       "      <th>FormLab Universal Face Sheet v11 5.Unemployed Options.Student</th>\n",
       "      <th>FormLab Universal Face Sheet v11 5.Unemployed Options.Unemployed</th>\n",
       "      <th>FormLab Universal Face Sheet v11 5.Who referred to us?</th>\n",
       "      <th>Patient Info.Date - Last Billable Service</th>\n",
       "    </tr>\n",
       "  </thead>\n",
       "  <tbody>\n",
       "    <tr>\n",
       "      <th>0</th>\n",
       "      <td>PORTER, VERONIKA</td>\n",
       "      <td>ZFB8441F2535</td>\n",
       "      <td>1997-07-07</td>\n",
       "      <td>2012-3127</td>\n",
       "      <td>13292</td>\n",
       "      <td>61011</td>\n",
       "      <td>Admitted</td>\n",
       "      <td>2022-06-21</td>\n",
       "      <td>NaT</td>\n",
       "      <td>25</td>\n",
       "      <td>...</td>\n",
       "      <td>1.0</td>\n",
       "      <td>0.0</td>\n",
       "      <td>0.0</td>\n",
       "      <td>0.0</td>\n",
       "      <td>0.0</td>\n",
       "      <td>0.0</td>\n",
       "      <td>0.0</td>\n",
       "      <td>1.0</td>\n",
       "      <td>PROBATION</td>\n",
       "      <td>2023-01-30</td>\n",
       "    </tr>\n",
       "    <tr>\n",
       "      <th>1</th>\n",
       "      <td>VINCENT, GREGORY</td>\n",
       "      <td>V5250711921504</td>\n",
       "      <td>1992-07-11</td>\n",
       "      <td>2020-00851</td>\n",
       "      <td>26858</td>\n",
       "      <td>64927</td>\n",
       "      <td>Discharged</td>\n",
       "      <td>2022-11-03</td>\n",
       "      <td>2022-11-22</td>\n",
       "      <td>30</td>\n",
       "      <td>...</td>\n",
       "      <td>NaN</td>\n",
       "      <td>NaN</td>\n",
       "      <td>NaN</td>\n",
       "      <td>NaN</td>\n",
       "      <td>NaN</td>\n",
       "      <td>NaN</td>\n",
       "      <td>NaN</td>\n",
       "      <td>NaN</td>\n",
       "      <td>NaN</td>\n",
       "      <td>2022-11-03</td>\n",
       "    </tr>\n",
       "    <tr>\n",
       "      <th>2</th>\n",
       "      <td>VANN, CLYDE</td>\n",
       "      <td>V5000827766180</td>\n",
       "      <td>1976-08-27</td>\n",
       "      <td>2022SA183</td>\n",
       "      <td>36542</td>\n",
       "      <td>64490</td>\n",
       "      <td>Discharged</td>\n",
       "      <td>2022-10-18</td>\n",
       "      <td>2022-10-18</td>\n",
       "      <td>46</td>\n",
       "      <td>...</td>\n",
       "      <td>NaN</td>\n",
       "      <td>NaN</td>\n",
       "      <td>NaN</td>\n",
       "      <td>NaN</td>\n",
       "      <td>NaN</td>\n",
       "      <td>NaN</td>\n",
       "      <td>NaN</td>\n",
       "      <td>NaN</td>\n",
       "      <td>NaN</td>\n",
       "      <td>2022-10-13</td>\n",
       "    </tr>\n",
       "    <tr>\n",
       "      <th>3</th>\n",
       "      <td>VILLA, JOSEPH</td>\n",
       "      <td>V4000209730631</td>\n",
       "      <td>1973-02-09</td>\n",
       "      <td>2023SA133</td>\n",
       "      <td>37336</td>\n",
       "      <td>66753</td>\n",
       "      <td>Admitted</td>\n",
       "      <td>2023-02-01</td>\n",
       "      <td>NaT</td>\n",
       "      <td>50</td>\n",
       "      <td>...</td>\n",
       "      <td>NaN</td>\n",
       "      <td>NaN</td>\n",
       "      <td>NaN</td>\n",
       "      <td>NaN</td>\n",
       "      <td>NaN</td>\n",
       "      <td>NaN</td>\n",
       "      <td>NaN</td>\n",
       "      <td>NaN</td>\n",
       "      <td>NaN</td>\n",
       "      <td>2023-02-01</td>\n",
       "    </tr>\n",
       "    <tr>\n",
       "      <th>4</th>\n",
       "      <td>VICTORY, JOSHUA</td>\n",
       "      <td>V2361015832792</td>\n",
       "      <td>1983-10-15</td>\n",
       "      <td>2016-00144</td>\n",
       "      <td>19142</td>\n",
       "      <td>63662</td>\n",
       "      <td>Discharged</td>\n",
       "      <td>2022-08-31</td>\n",
       "      <td>2022-11-28</td>\n",
       "      <td>39</td>\n",
       "      <td>...</td>\n",
       "      <td>NaN</td>\n",
       "      <td>NaN</td>\n",
       "      <td>NaN</td>\n",
       "      <td>NaN</td>\n",
       "      <td>NaN</td>\n",
       "      <td>NaN</td>\n",
       "      <td>NaN</td>\n",
       "      <td>NaN</td>\n",
       "      <td>NaN</td>\n",
       "      <td>2022-11-23</td>\n",
       "    </tr>\n",
       "  </tbody>\n",
       "</table>\n",
       "<p>5 rows × 71 columns</p>\n",
       "</div>"
      ],
      "text/plain": [
       "  Patient Info.Patient Name - Last First Patient Info.MedicaidID  \\\n",
       "0                       PORTER, VERONIKA            ZFB8441F2535   \n",
       "1                       VINCENT, GREGORY          V5250711921504   \n",
       "2                            VANN, CLYDE          V5000827766180   \n",
       "3                          VILLA, JOSEPH          V4000209730631   \n",
       "4                        VICTORY, JOSHUA          V2361015832792   \n",
       "\n",
       "  Patient Info.Date Of Birth Patient Info.Medical Record Number  \\\n",
       "0                 1997-07-07                          2012-3127   \n",
       "1                 1992-07-11                         2020-00851   \n",
       "2                 1976-08-27                          2022SA183   \n",
       "3                 1973-02-09                          2023SA133   \n",
       "4                 1983-10-15                         2016-00144   \n",
       "\n",
       "   Patient Info.ID - Patient  Patient Info.ID - Patient Chart  \\\n",
       "0                      13292                            61011   \n",
       "1                      26858                            64927   \n",
       "2                      36542                            64490   \n",
       "3                      37336                            66753   \n",
       "4                      19142                            63662   \n",
       "\n",
       "  Patient Info.Chart Status Patient Info.Date - Admit  \\\n",
       "0                  Admitted                2022-06-21   \n",
       "1                Discharged                2022-11-03   \n",
       "2                Discharged                2022-10-18   \n",
       "3                  Admitted                2023-02-01   \n",
       "4                Discharged                2022-08-31   \n",
       "\n",
       "  Patient Info.Date - Discharge/Terminate  Patient Info.Age (Current)  ...  \\\n",
       "0                                     NaT                          25  ...   \n",
       "1                              2022-11-22                          30  ...   \n",
       "2                              2022-10-18                          46  ...   \n",
       "3                                     NaT                          50  ...   \n",
       "4                              2022-11-28                          39  ...   \n",
       "\n",
       "  FormLab Universal Face Sheet v11 5.Referral Category .Probation/parole   \\\n",
       "0                                                1.0                        \n",
       "1                                                NaN                        \n",
       "2                                                NaN                        \n",
       "3                                                NaN                        \n",
       "4                                                NaN                        \n",
       "\n",
       "   FormLab Universal Face Sheet v11 5.Referral Category .Self  \\\n",
       "0                                                0.0            \n",
       "1                                                NaN            \n",
       "2                                                NaN            \n",
       "3                                                NaN            \n",
       "4                                                NaN            \n",
       "\n",
       "  FormLab Universal Face Sheet v11 5.Referral Category .Treatment Court  \\\n",
       "0                                                0.0                      \n",
       "1                                                NaN                      \n",
       "2                                                NaN                      \n",
       "3                                                NaN                      \n",
       "4                                                NaN                      \n",
       "\n",
       "  FormLab Universal Face Sheet v11 5.Unemployed Options.Disabled  \\\n",
       "0                                                0.0               \n",
       "1                                                NaN               \n",
       "2                                                NaN               \n",
       "3                                                NaN               \n",
       "4                                                NaN               \n",
       "\n",
       "  FormLab Universal Face Sheet v11 5.Unemployed Options.N/A  \\\n",
       "0                                                0.0          \n",
       "1                                                NaN          \n",
       "2                                                NaN          \n",
       "3                                                NaN          \n",
       "4                                                NaN          \n",
       "\n",
       "   FormLab Universal Face Sheet v11 5.Unemployed Options.Retired  \\\n",
       "0                                                0.0               \n",
       "1                                                NaN               \n",
       "2                                                NaN               \n",
       "3                                                NaN               \n",
       "4                                                NaN               \n",
       "\n",
       "   FormLab Universal Face Sheet v11 5.Unemployed Options.Student  \\\n",
       "0                                                0.0               \n",
       "1                                                NaN               \n",
       "2                                                NaN               \n",
       "3                                                NaN               \n",
       "4                                                NaN               \n",
       "\n",
       "   FormLab Universal Face Sheet v11 5.Unemployed Options.Unemployed  \\\n",
       "0                                                1.0                  \n",
       "1                                                NaN                  \n",
       "2                                                NaN                  \n",
       "3                                                NaN                  \n",
       "4                                                NaN                  \n",
       "\n",
       "   FormLab Universal Face Sheet v11 5.Who referred to us?  \\\n",
       "0                                          PROBATION        \n",
       "1                                                NaN        \n",
       "2                                                NaN        \n",
       "3                                                NaN        \n",
       "4                                                NaN        \n",
       "\n",
       "   Patient Info.Date - Last Billable Service  \n",
       "0                                 2023-01-30  \n",
       "1                                 2022-11-03  \n",
       "2                                 2022-10-13  \n",
       "3                                 2023-02-01  \n",
       "4                                 2022-11-23  \n",
       "\n",
       "[5 rows x 71 columns]"
      ]
     },
     "execution_count": 24,
     "metadata": {},
     "output_type": "execute_result"
    }
   ],
   "source": [
    "logging.info(f'{solution_name} - Step 1 - Load ANY data set for which to run discovery or data profiling')  \n",
    "getting_data = True\n",
    "if getting_data: \n",
    "    file_name = \"C:\\\\working_directory\\\\excel\\\\FLIPA_Demographic.xlsx\"    \n",
    "    df_flipa = pd.read_excel(file_name, sheet_name=\"demographic\")   \n",
    "# df = pd.read_excel(file_path, password=\"your_password\")\n",
    "df_flipa.head()"
   ]
  },
  {
   "cell_type": "code",
   "execution_count": 25,
   "id": "ee5c1d30-846b-4474-b4c7-776c4497b65f",
   "metadata": {},
   "outputs": [
    {
     "data": {
      "text/plain": [
       "(2913, 71)"
      ]
     },
     "execution_count": 25,
     "metadata": {},
     "output_type": "execute_result"
    }
   ],
   "source": [
    "df_flipa.shape"
   ]
  },
  {
   "cell_type": "code",
   "execution_count": 29,
   "id": "80a5e8d9-9f2a-45fa-a298-30aa2d4a44fc",
   "metadata": {},
   "outputs": [
    {
     "name": "stdout",
     "output_type": "stream",
     "text": [
      "(59414, 59)\n"
     ]
    },
    {
     "data": {
      "text/html": [
       "<div>\n",
       "<style scoped>\n",
       "    .dataframe tbody tr th:only-of-type {\n",
       "        vertical-align: middle;\n",
       "    }\n",
       "\n",
       "    .dataframe tbody tr th {\n",
       "        vertical-align: top;\n",
       "    }\n",
       "\n",
       "    .dataframe thead th {\n",
       "        text-align: right;\n",
       "    }\n",
       "</style>\n",
       "<table border=\"1\" class=\"dataframe\">\n",
       "  <thead>\n",
       "    <tr style=\"text-align: right;\">\n",
       "      <th></th>\n",
       "      <th>Member ID</th>\n",
       "      <th>Parse Member</th>\n",
       "      <th>CIN</th>\n",
       "      <th>Member Name</th>\n",
       "      <th>September 2023 Active within FLIPA</th>\n",
       "      <th>Person Product Type</th>\n",
       "      <th>Person Age Group</th>\n",
       "      <th>Person Language</th>\n",
       "      <th>Person Race</th>\n",
       "      <th>Physician Group TIN</th>\n",
       "      <th>...</th>\n",
       "      <th>Breast Cancer Screening</th>\n",
       "      <th>Monitoring Diabetes- HbA1c</th>\n",
       "      <th>Childhood Immunization Status (Combo 3)</th>\n",
       "      <th>Follow-Up After Emergency Department Visit for Mental Illness (7-day)</th>\n",
       "      <th>Adolescent Immunization (Combo 2)</th>\n",
       "      <th>Postpartum Care</th>\n",
       "      <th>Child &amp; Adolescent Well-Child Visits (3-21 Years)</th>\n",
       "      <th>harp_eligible</th>\n",
       "      <th>health_home_enrolled</th>\n",
       "      <th>pcp_assignment_type</th>\n",
       "    </tr>\n",
       "  </thead>\n",
       "  <tbody>\n",
       "    <tr>\n",
       "      <th>0</th>\n",
       "      <td>74373982100-FCNY0001</td>\n",
       "      <td>743739821</td>\n",
       "      <td>CJ21745E</td>\n",
       "      <td>Acor, Brandon</td>\n",
       "      <td>Yes</td>\n",
       "      <td>TANF Adult</td>\n",
       "      <td>4 - Young adult (19 - 35)</td>\n",
       "      <td>English</td>\n",
       "      <td>White</td>\n",
       "      <td>161020913</td>\n",
       "      <td>...</td>\n",
       "      <td>NaN</td>\n",
       "      <td>NaN</td>\n",
       "      <td>NaN</td>\n",
       "      <td>NaN</td>\n",
       "      <td>NaN</td>\n",
       "      <td>NaN</td>\n",
       "      <td>NaN</td>\n",
       "      <td>NaN</td>\n",
       "      <td>NaN</td>\n",
       "      <td>Manual</td>\n",
       "    </tr>\n",
       "    <tr>\n",
       "      <th>1</th>\n",
       "      <td>74227852100-FCNY0001</td>\n",
       "      <td>742278521</td>\n",
       "      <td>CP22315G</td>\n",
       "      <td>Adler, Robert</td>\n",
       "      <td>Yes</td>\n",
       "      <td>HARP</td>\n",
       "      <td>6 - Older adult (51 - 65)</td>\n",
       "      <td>English</td>\n",
       "      <td>White</td>\n",
       "      <td>160997545</td>\n",
       "      <td>...</td>\n",
       "      <td>NaN</td>\n",
       "      <td>NaN</td>\n",
       "      <td>NaN</td>\n",
       "      <td>NaN</td>\n",
       "      <td>NaN</td>\n",
       "      <td>NaN</td>\n",
       "      <td>NaN</td>\n",
       "      <td>NaN</td>\n",
       "      <td>NaN</td>\n",
       "      <td>Manual</td>\n",
       "    </tr>\n",
       "    <tr>\n",
       "      <th>2</th>\n",
       "      <td>74237552800-FCNY0001</td>\n",
       "      <td>742375528</td>\n",
       "      <td>CZ90609X</td>\n",
       "      <td>Ames, Allison</td>\n",
       "      <td>Yes</td>\n",
       "      <td>TANF Adult</td>\n",
       "      <td>4 - Young adult (19 - 35)</td>\n",
       "      <td>English</td>\n",
       "      <td>White</td>\n",
       "      <td>161020913</td>\n",
       "      <td>...</td>\n",
       "      <td>NaN</td>\n",
       "      <td>NaN</td>\n",
       "      <td>NaN</td>\n",
       "      <td>NaN</td>\n",
       "      <td>NaN</td>\n",
       "      <td>NaN</td>\n",
       "      <td>NaN</td>\n",
       "      <td>NaN</td>\n",
       "      <td>NaN</td>\n",
       "      <td>Manual</td>\n",
       "    </tr>\n",
       "    <tr>\n",
       "      <th>3</th>\n",
       "      <td>74342859700-FCNY0001</td>\n",
       "      <td>743428597</td>\n",
       "      <td>FC85494H</td>\n",
       "      <td>Arnault, Taryn</td>\n",
       "      <td>No</td>\n",
       "      <td>NaN</td>\n",
       "      <td>4 - Young adult (19 - 35)</td>\n",
       "      <td>NaN</td>\n",
       "      <td>NaN</td>\n",
       "      <td>161020913</td>\n",
       "      <td>...</td>\n",
       "      <td>NaN</td>\n",
       "      <td>NaN</td>\n",
       "      <td>NaN</td>\n",
       "      <td>NaN</td>\n",
       "      <td>NaN</td>\n",
       "      <td>NaN</td>\n",
       "      <td>NaN</td>\n",
       "      <td>NaN</td>\n",
       "      <td>NaN</td>\n",
       "      <td>NaN</td>\n",
       "    </tr>\n",
       "    <tr>\n",
       "      <th>4</th>\n",
       "      <td>74353314600-FCNY0001</td>\n",
       "      <td>743533146</td>\n",
       "      <td>BW24223H</td>\n",
       "      <td>Barnes, Joshua</td>\n",
       "      <td>Yes</td>\n",
       "      <td>TANF Adult</td>\n",
       "      <td>4 - Young adult (19 - 35)</td>\n",
       "      <td>English</td>\n",
       "      <td>White</td>\n",
       "      <td>161080039</td>\n",
       "      <td>...</td>\n",
       "      <td>NaN</td>\n",
       "      <td>NaN</td>\n",
       "      <td>NaN</td>\n",
       "      <td>NaN</td>\n",
       "      <td>NaN</td>\n",
       "      <td>NaN</td>\n",
       "      <td>NaN</td>\n",
       "      <td>NaN</td>\n",
       "      <td>NaN</td>\n",
       "      <td>Manual</td>\n",
       "    </tr>\n",
       "  </tbody>\n",
       "</table>\n",
       "<p>5 rows × 59 columns</p>\n",
       "</div>"
      ],
      "text/plain": [
       "              Member ID Parse Member       CIN     Member Name  \\\n",
       "0  74373982100-FCNY0001    743739821  CJ21745E   Acor, Brandon   \n",
       "1  74227852100-FCNY0001    742278521  CP22315G   Adler, Robert   \n",
       "2  74237552800-FCNY0001    742375528  CZ90609X   Ames, Allison   \n",
       "3  74342859700-FCNY0001    743428597  FC85494H  Arnault, Taryn   \n",
       "4  74353314600-FCNY0001    743533146  BW24223H  Barnes, Joshua   \n",
       "\n",
       "  September 2023 Active within FLIPA Person Product Type  \\\n",
       "0                                Yes          TANF Adult   \n",
       "1                                Yes                HARP   \n",
       "2                                Yes          TANF Adult   \n",
       "3                                 No                 NaN   \n",
       "4                                Yes          TANF Adult   \n",
       "\n",
       "            Person Age Group Person Language Person Race  Physician Group TIN  \\\n",
       "0  4 - Young adult (19 - 35)         English       White            161020913   \n",
       "1  6 - Older adult (51 - 65)         English       White            160997545   \n",
       "2  4 - Young adult (19 - 35)         English       White            161020913   \n",
       "3  4 - Young adult (19 - 35)             NaN         NaN            161020913   \n",
       "4  4 - Young adult (19 - 35)         English       White            161080039   \n",
       "\n",
       "   ... Breast Cancer Screening  Monitoring Diabetes- HbA1c  \\\n",
       "0  ...                     NaN                         NaN   \n",
       "1  ...                     NaN                         NaN   \n",
       "2  ...                     NaN                         NaN   \n",
       "3  ...                     NaN                         NaN   \n",
       "4  ...                     NaN                         NaN   \n",
       "\n",
       "  Childhood Immunization Status (Combo 3)  \\\n",
       "0                                     NaN   \n",
       "1                                     NaN   \n",
       "2                                     NaN   \n",
       "3                                     NaN   \n",
       "4                                     NaN   \n",
       "\n",
       "   Follow-Up After Emergency Department Visit for Mental Illness (7-day)  \\\n",
       "0                                                NaN                       \n",
       "1                                                NaN                       \n",
       "2                                                NaN                       \n",
       "3                                                NaN                       \n",
       "4                                                NaN                       \n",
       "\n",
       "  Adolescent Immunization (Combo 2) Postpartum Care  \\\n",
       "0                               NaN             NaN   \n",
       "1                               NaN             NaN   \n",
       "2                               NaN             NaN   \n",
       "3                               NaN             NaN   \n",
       "4                               NaN             NaN   \n",
       "\n",
       "  Child & Adolescent Well-Child Visits (3-21 Years) harp_eligible  \\\n",
       "0                                               NaN           NaN   \n",
       "1                                               NaN           NaN   \n",
       "2                                               NaN           NaN   \n",
       "3                                               NaN           NaN   \n",
       "4                                               NaN           NaN   \n",
       "\n",
       "  health_home_enrolled pcp_assignment_type  \n",
       "0                  NaN              Manual  \n",
       "1                  NaN              Manual  \n",
       "2                  NaN              Manual  \n",
       "3                  NaN                 NaN  \n",
       "4                  NaN              Manual  \n",
       "\n",
       "[5 rows x 59 columns]"
      ]
     },
     "execution_count": 29,
     "metadata": {},
     "output_type": "execute_result"
    }
   ],
   "source": [
    "logging.info(f'{solution_name} - Step 1 - Load ANY data set for which to run discovery or data profiling')  \n",
    "getting_data = True\n",
    "if getting_data: \n",
    "    file_name = \"C:\\\\working_directory\\\\excel\\\\allmember.xlsx\"    \n",
    "    df_fidelis = pd.read_excel(file_name, sheet_name=\"allmember\")   \n",
    "print(df_fidelis.shape)\n",
    "df_fidelis.head()"
   ]
  },
  {
   "cell_type": "code",
   "execution_count": 40,
   "id": "46c95cf3-3bda-404c-865e-79bdca6673c6",
   "metadata": {},
   "outputs": [],
   "source": [
    "df_fidelis['Mem_ID'] = df_fidelis['Member ID'].str.slice(0, 9)"
   ]
  },
  {
   "cell_type": "code",
   "execution_count": 44,
   "id": "4d18fb28-e70c-4704-89e7-1ca93ebb125d",
   "metadata": {},
   "outputs": [
    {
     "data": {
      "text/html": [
       "<div>\n",
       "<style scoped>\n",
       "    .dataframe tbody tr th:only-of-type {\n",
       "        vertical-align: middle;\n",
       "    }\n",
       "\n",
       "    .dataframe tbody tr th {\n",
       "        vertical-align: top;\n",
       "    }\n",
       "\n",
       "    .dataframe thead th {\n",
       "        text-align: right;\n",
       "    }\n",
       "</style>\n",
       "<table border=\"1\" class=\"dataframe\">\n",
       "  <thead>\n",
       "    <tr style=\"text-align: right;\">\n",
       "      <th></th>\n",
       "      <th>Mem_ID</th>\n",
       "      <th>Member ID</th>\n",
       "    </tr>\n",
       "  </thead>\n",
       "  <tbody>\n",
       "    <tr>\n",
       "      <th>0</th>\n",
       "      <td>743739821</td>\n",
       "      <td>74373982100-FCNY0001</td>\n",
       "    </tr>\n",
       "    <tr>\n",
       "      <th>1</th>\n",
       "      <td>742278521</td>\n",
       "      <td>74227852100-FCNY0001</td>\n",
       "    </tr>\n",
       "    <tr>\n",
       "      <th>2</th>\n",
       "      <td>742375528</td>\n",
       "      <td>74237552800-FCNY0001</td>\n",
       "    </tr>\n",
       "    <tr>\n",
       "      <th>3</th>\n",
       "      <td>743428597</td>\n",
       "      <td>74342859700-FCNY0001</td>\n",
       "    </tr>\n",
       "    <tr>\n",
       "      <th>4</th>\n",
       "      <td>743533146</td>\n",
       "      <td>74353314600-FCNY0001</td>\n",
       "    </tr>\n",
       "  </tbody>\n",
       "</table>\n",
       "</div>"
      ],
      "text/plain": [
       "      Mem_ID             Member ID\n",
       "0  743739821  74373982100-FCNY0001\n",
       "1  742278521  74227852100-FCNY0001\n",
       "2  742375528  74237552800-FCNY0001\n",
       "3  743428597  74342859700-FCNY0001\n",
       "4  743533146  74353314600-FCNY0001"
      ]
     },
     "execution_count": 44,
     "metadata": {},
     "output_type": "execute_result"
    }
   ],
   "source": [
    "df_fidelis[['Mem_ID', 'Member ID']].head(5)"
   ]
  },
  {
   "cell_type": "code",
   "execution_count": null,
   "id": "524fd83e-a49d-4e79-97b7-4ccaa6e79418",
   "metadata": {},
   "outputs": [],
   "source": []
  },
  {
   "cell_type": "markdown",
   "id": "23e62771-eb39-43e5-ad44-bb02072a298f",
   "metadata": {},
   "source": [
    "## match on CIN - or -  left member ID 9 - or - Name and Date of Birth "
   ]
  },
  {
   "cell_type": "code",
   "execution_count": 37,
   "id": "8c35cb8f-ba63-47ad-bd21-d8bb14bb29a0",
   "metadata": {},
   "outputs": [
    {
     "data": {
      "text/plain": [
       "Index(['Member ID', 'Parse Member', 'CIN', 'Member Name',\n",
       "       'September 2023 Active within FLIPA', 'Person Product Type',\n",
       "       'Person Age Group', 'Person Language', 'Person Race',\n",
       "       'Physician Group TIN', 'Physician Group', 'Physician ID',\n",
       "       'Physician Name', 'NPI', 'Member DOB', 'Member Gender',\n",
       "       'Member Phone Number', 'Member Street Address 1',\n",
       "       'Member Street Address 2', 'Member City', 'Member State',\n",
       "       'Member Zip Code', 'Population Health Segment', 'ACRG3 Base',\n",
       "       'ACRG3 Description', 'CRG Description', 'CRG Weight', 'Non-User Flag',\n",
       "       'Fall Out Report', 'Jumpers Report', 'Newly Chronic',\n",
       "       'No Office Visit in Last 6 Months', 'Inpatient Admits',\n",
       "       'Inpatient PPAs', 'Inpatient PPRs', 'Outpatient Visits',\n",
       "       'Outpatient ER Visits', 'Outpatient PPV Visits', 'Professional Visits',\n",
       "       'Professional Preventable Services', 'RX Scripts', 'Dental Visits',\n",
       "       'Vision Visits', 'Person IP Allowed', 'Person OP Allowed',\n",
       "       'Person PR Allowed', 'Person RX Allowed',\n",
       "       'Person Total Cost of Care Allowed',\n",
       "       'AMM Effective Acute Phase Treatment', 'Breast Cancer Screening',\n",
       "       'Monitoring Diabetes- HbA1c', 'Childhood Immunization Status (Combo 3)',\n",
       "       'Follow-Up After Emergency Department Visit for Mental Illness (7-day)',\n",
       "       'Adolescent Immunization (Combo 2)', 'Postpartum Care',\n",
       "       'Child & Adolescent Well-Child Visits (3-21 Years)', 'harp_eligible',\n",
       "       'health_home_enrolled', 'pcp_assignment_type', 'Mem_ID'],\n",
       "      dtype='object')"
      ]
     },
     "execution_count": 37,
     "metadata": {},
     "output_type": "execute_result"
    }
   ],
   "source": [
    "df_fidelis.columns"
   ]
  },
  {
   "cell_type": "markdown",
   "id": "60f0fea6-21a6-44be-82fa-607f3fbcfe8a",
   "metadata": {},
   "source": [
    "## Step 3 - Clear out old reports"
   ]
  },
  {
   "cell_type": "code",
   "execution_count": null,
   "id": "29200e1e-f999-490a-bc64-a5026bc69bb7",
   "metadata": {},
   "outputs": [],
   "source": [
    "def delete_files_in_directory(target_directory):\n",
    "    try:\n",
    "        # Verify if the target_directory exists\n",
    "        if not os.path.exists(target_directory):\n",
    "            print(f\"The directory '{target_directory}' does not exist.\")\n",
    "            return 0  # No files deleted\n",
    "\n",
    "        files_deleted = 0\n",
    "\n",
    "        # Loop through files in the target_directory and delete them\n",
    "        for file in os.listdir(target_directory):\n",
    "            file_path = os.path.join(target_directory, file)\n",
    "            if os.path.isfile(file_path):\n",
    "                os.remove(file_path)  # Delete the file\n",
    "                files_deleted += 1\n",
    "\n",
    "        print(f\"{files_deleted} files deleted in '{target_directory}'.\")\n",
    "        return files_deleted\n",
    "    \n",
    "    except Exception as e:\n",
    "        print(f\"An error occurred: {str(e)}\")\n",
    "        return 0  # No files deleted due to error\n",
    "\n",
    "# Example usage:\n",
    "# Specify the target directory to delete its files\n",
    "target_directory = \"/path/to/your/directory\"\n",
    "deleted_count = delete_files_in_directory(target_directory)\n",
    "print(f\"Total files deleted: {deleted_count}\")\n"
   ]
  },
  {
   "cell_type": "markdown",
   "id": "5428aced",
   "metadata": {},
   "source": [
    "## Example - df.columns provides a list of each column"
   ]
  },
  {
   "cell_type": "code",
   "execution_count": null,
   "id": "33ba0349",
   "metadata": {},
   "outputs": [],
   "source": [
    "df.columns"
   ]
  },
  {
   "cell_type": "markdown",
   "id": "cfd25fd5",
   "metadata": {},
   "source": [
    "## Example - df.describe() Provides High level stats on each column"
   ]
  },
  {
   "cell_type": "code",
   "execution_count": null,
   "id": "70cb0092",
   "metadata": {},
   "outputs": [],
   "source": [
    "df.describe() "
   ]
  },
  {
   "cell_type": "markdown",
   "id": "b5be8998-2dc8-409a-9501-2c06eef168c1",
   "metadata": {},
   "source": [
    "## Example - df.shape tells you the rows and columns"
   ]
  },
  {
   "cell_type": "code",
   "execution_count": null,
   "id": "03c800bd",
   "metadata": {},
   "outputs": [],
   "source": [
    "df.shape"
   ]
  },
  {
   "cell_type": "code",
   "execution_count": null,
   "id": "9ab6ca1a",
   "metadata": {},
   "outputs": [],
   "source": [
    "df.head(2)"
   ]
  },
  {
   "cell_type": "code",
   "execution_count": null,
   "id": "03f1b6c3",
   "metadata": {},
   "outputs": [],
   "source": [
    "df.tail(2)"
   ]
  },
  {
   "cell_type": "markdown",
   "id": "0653a168",
   "metadata": {},
   "source": [
    "## Step 2 - Render descriptive statistics and profile every feature or Column of the Dataset"
   ]
  },
  {
   "cell_type": "code",
   "execution_count": null,
   "id": "a4125e9f",
   "metadata": {},
   "outputs": [],
   "source": [
    "#data_set_name = 'high_risk_high_need'\n",
    "#dd.display_descriptive_statistics(dd.get_descriptive_statistics(df,data_set_name))"
   ]
  },
  {
   "cell_type": "markdown",
   "id": "fad57c33-8f36-426e-a745-f9cd97eba66f",
   "metadata": {},
   "source": [
    "## Strip Any spaces from Left of Provider Names"
   ]
  },
  {
   "cell_type": "code",
   "execution_count": null,
   "id": "c7ef1187-87d1-464b-ad66-dbcd13c0edb6",
   "metadata": {},
   "outputs": [],
   "source": [
    "df[\"Program Provider\"] = df[\"Program Provider\"].str.strip(\" \")"
   ]
  },
  {
   "cell_type": "code",
   "execution_count": null,
   "id": "8be5f098",
   "metadata": {},
   "outputs": [],
   "source": [
    "provider_list = df[\"Program Provider\"].unique()\n",
    "print(provider_list)"
   ]
  },
  {
   "cell_type": "markdown",
   "id": "d7b6be4f-51a3-4517-837f-50254dd35138",
   "metadata": {},
   "source": [
    "## Step 3 - Chunk the data set into personalized reports per Doctor"
   ]
  },
  {
   "cell_type": "code",
   "execution_count": null,
   "id": "375a9454",
   "metadata": {},
   "outputs": [],
   "source": [
    "import datetime\n",
    "report_date = datetime.datetime.now().strftime(\"_%m_%d_%Y\")\n",
    "for index, provider in enumerate(provider_list):\n",
    "    df_provider = df[(df[\"Program Provider\"] == provider)]\n",
    "    provider = provider.replace(\" \",\"_\")\n",
    "    print(f'Found {index}  Provider {provider} high risk patients:{df_provider.shape[0]}')\n",
    "    provider_save_filename = f\"c://reports//high_risk_high_need//provider_{provider}_high_risk\" + report_date + \".xlsx\" \n",
    "    print(f'writing {provider} to: {provider_save_filename}   ')\n",
    "    with pd.ExcelWriter(provider_save_filename) as writer:\n",
    "        df_provider.to_excel(writer, sheet_name='High Risk',index = False) "
   ]
  },
  {
   "cell_type": "markdown",
   "id": "17981841-c478-4651-b9fe-726e8f4afcbe",
   "metadata": {},
   "source": [
    "## Step 4 - Format all of the reports so they look professional and are easy to use and efficient "
   ]
  },
  {
   "cell_type": "code",
   "execution_count": null,
   "id": "7ec4675c-b506-4c82-b259-06815a8437ba",
   "metadata": {},
   "outputs": [],
   "source": [
    "testing = True\n",
    "if testing:\n",
    "    formatted_excel_Files = re.format_excel_directory('c://reports//high_risk_high_need')\n",
    "    print(f'Formatted #{formatted_excel_Files} excel files') "
   ]
  },
  {
   "cell_type": "code",
   "execution_count": null,
   "id": "81943aeb-9ecb-4461-a0dc-1b7b27c2cee7",
   "metadata": {},
   "outputs": [],
   "source": [
    "import os\n",
    "import shutil\n",
    "import re\n",
    "\n",
    "def move_files_by_regex_and_extension(source_dir, target_dir, regex_pattern, file_extension):\n",
    "    # Ensure the source and target directories exist\n",
    "    if not os.path.exists(source_dir):\n",
    "        print(f\"Source directory '{source_dir}' does not exist.\")\n",
    "        return\n",
    "    if not os.path.exists(target_dir):\n",
    "        print(f\"Target directory '{target_dir}' does not exist.\")\n",
    "        return\n",
    "\n",
    "    # Compile the regular expression pattern\n",
    "    try:\n",
    "        regex = re.compile(regex_pattern)\n",
    "    except re.error as e:\n",
    "        print(f\"Invalid regular expression: {e}\")\n",
    "        return\n",
    "\n",
    "    # Iterate over files in the source directory\n",
    "    for filename in os.listdir(source_dir):\n",
    "        source_file_path = os.path.join(source_dir, filename)\n",
    "\n",
    "        # Check if the file matches the regular expression and extension\n",
    "        if regex.search(filename) and filename.endswith(file_extension):\n",
    "            # Construct the target file path\n",
    "            target_file_path = os.path.join(target_dir, filename)\n",
    "\n",
    "            # Move the file to the target directory\n",
    "            try:\n",
    "                shutil.move(source_file_path, target_file_path)\n",
    "                print(f\"Moved '{filename}' to '{target_dir}'.\")\n",
    "            except Exception as e:\n",
    "                print(f\"Failed to move '{filename}': {e}\")\n",
    "\n",
    "# Example usage:\n",
    "source_directory = \"/path/to/source_directory\"\n",
    "target_directory = \"/path/to/target_directory\"\n",
    "regular_expression = r\"_ft\"     # Replace with your regular expression\n",
    "file_extension = \".xlsx\"       # Replace with your desired file extension\n",
    "move_files_by_regex_and_extension(source_directory, target_directory, regular_expression, file_extension)\n"
   ]
  },
  {
   "cell_type": "markdown",
   "id": "90df04c3",
   "metadata": {},
   "source": [
    "## Step 0 - Process End - display log"
   ]
  },
  {
   "cell_type": "code",
   "execution_count": null,
   "id": "8734fb3a",
   "metadata": {},
   "outputs": [],
   "source": [
    "# Calculate and classify the process performance \n",
    "status = ql.calculate_process_performance(solution_name, start_time) \n",
    "print(ql.append_log_file(solution_name))  "
   ]
  }
 ],
 "metadata": {
  "kernelspec": {
   "display_name": "Python 3 (ipykernel)",
   "language": "python",
   "name": "python3"
  },
  "language_info": {
   "codemirror_mode": {
    "name": "ipython",
    "version": 3
   },
   "file_extension": ".py",
   "mimetype": "text/x-python",
   "name": "python",
   "nbconvert_exporter": "python",
   "pygments_lexer": "ipython3",
   "version": "3.8.5"
  }
 },
 "nbformat": 4,
 "nbformat_minor": 5
}
